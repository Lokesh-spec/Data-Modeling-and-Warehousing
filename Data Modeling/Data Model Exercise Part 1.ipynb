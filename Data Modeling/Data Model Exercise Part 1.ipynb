{
 "cells": [
  {
   "cell_type": "code",
   "execution_count": 1,
   "id": "ba160135-c396-4a7f-b9d9-db7c7c0814a0",
   "metadata": {},
   "outputs": [
    {
     "name": "stdout",
     "output_type": "stream",
     "text": [
      "Defaulting to user installation because normal site-packages is not writeable\n",
      "Requirement already satisfied: psycopg2 in c:\\users\\kvlok\\appdata\\roaming\\python\\python312\\site-packages (2.9.10)\n"
     ]
    }
   ],
   "source": [
    "!pip install psycopg2"
   ]
  },
  {
   "cell_type": "code",
   "execution_count": 2,
   "id": "414ed446-1e02-40c9-884b-707fe7411be5",
   "metadata": {},
   "outputs": [],
   "source": [
    "# importing the libraries\n",
    "import psycopg2"
   ]
  },
  {
   "cell_type": "code",
   "execution_count": 3,
   "id": "46a60a25-a191-42fc-8e19-1bcc26d89594",
   "metadata": {},
   "outputs": [],
   "source": [
    "# Creating a connection to the Postgres DB\n",
    "try:\n",
    "    conn = psycopg2.connect(\"host=localhost dbname=postgres user=postgres password=admin\")\n",
    "except psycopg2.Error as e:\n",
    "    print(\"Error: Could not make connection to the Postgres database\")\n",
    "    print(e)"
   ]
  },
  {
   "cell_type": "code",
   "execution_count": 5,
   "id": "2b397b08-48dc-4826-b551-44ee8b26b5b6",
   "metadata": {},
   "outputs": [],
   "source": [
    "# creating cursor\n",
    "try:\n",
    "    cur = conn.cursor()\n",
    "except psycopg2.Error as e:\n",
    "    print(\"Error : Could not get cursor to the database\")\n",
    "    print(e)\n"
   ]
  },
  {
   "cell_type": "code",
   "execution_count": 6,
   "id": "ef968351-dd80-47d7-856f-9e304b11437a",
   "metadata": {},
   "outputs": [],
   "source": [
    "# Set auto-commit to true\n",
    "conn.set_session(autocommit=True)"
   ]
  },
  {
   "cell_type": "code",
   "execution_count": 7,
   "id": "e95cc032-55a9-4a44-b2cd-e20b51e2a83c",
   "metadata": {},
   "outputs": [
    {
     "name": "stdout",
     "output_type": "stream",
     "text": [
      "database \"myfirstdb\" already exists\n",
      "\n"
     ]
    }
   ],
   "source": [
    "# Creating myfirstdb database\n",
    "try:\n",
    "    cur.execute(\"CREATE DATABASE myfirstdb\")\n",
    "except psycopg2.Error as e:\n",
    "    print(e)"
   ]
  },
  {
   "cell_type": "code",
   "execution_count": 8,
   "id": "9edcef38-81db-4ab8-9884-e1c6876af810",
   "metadata": {},
   "outputs": [],
   "source": [
    "# Closing postgres db conn and creating connection for mydb\n",
    "\n",
    "try:\n",
    "    conn.close()\n",
    "except psycopg2.Error as e:\n",
    "    print(e)\n",
    "\n",
    "try:\n",
    "    conn = psycopg2.connect(\"host=localhost dbname=myfirstdb user=postgres password=admin\")\n",
    "except psycopg2.Error as e:\n",
    "    print(\"Error: Could not make connection to the Postgres database\")\n",
    "    print(e)\n",
    "\n",
    "try:\n",
    "    cur = conn.cursor()\n",
    "except psycopg2.Error as e:\n",
    "    print(e)"
   ]
  },
  {
   "cell_type": "code",
   "execution_count": 9,
   "id": "02561a49-acfe-4a21-940a-46da4ad72c60",
   "metadata": {},
   "outputs": [],
   "source": [
    "conn.set_session(autocommit=True)"
   ]
  },
  {
   "cell_type": "code",
   "execution_count": 10,
   "id": "fb1a3b53-dd7b-456c-8252-c23e2c0fd584",
   "metadata": {},
   "outputs": [],
   "source": [
    "# Create a table for students that include below columns\n",
    "# student_id\n",
    "# name\n",
    "# age\n",
    "# gender\n",
    "# subject\n",
    "# marks\n",
    "\n",
    "try:\n",
    "    cur.execute(\"CREATE TABLE IF NOT EXISTS students (student_id int, name varchar, age int, gender varchar, subject varchar, marks int);\")\n",
    "except psycopg2.Error as e:\n",
    "    print(\"Error: Issue creating table\")\n",
    "    print(e)"
   ]
  },
  {
   "cell_type": "code",
   "execution_count": 11,
   "id": "ee462921-0092-492e-a6f7-e1e58ee06ca8",
   "metadata": {},
   "outputs": [],
   "source": [
    "# Inserting the following two rows in the table\n",
    "\n",
    "\n",
    "try:\n",
    "    cur.execute(\"INSERT INTO students (student_id, name, age, gender, subject, marks) \\\n",
    "                 VALUES (%s, %s, %s, %s, %s, %s)\", \\\n",
    "                 (1, \"Lokesh\", 27, \"Male\", \"Python\", 80))\n",
    "except psycopg2.Error as e:\n",
    "    print(\"Error: Inserting Row\")\n",
    "    print(e)\n",
    "\n",
    "try:\n",
    "    cur.execute(\"INSERT INTO students (student_id, name, age, gender, subject, marks) \\\n",
    "                 VALUES (%s, %s, %s, %s, %s, %s)\", \\\n",
    "                (2, \"GURU\", 27, \"Male\", \"Java\", 28))\n",
    "except psycopg2.Error as e:\n",
    "    print(\"Error: Inserting Row\")\n",
    "    print(e)\n",
    "    "
   ]
  },
  {
   "cell_type": "code",
   "execution_count": 12,
   "id": "cf7e8a73-82a9-4b24-a0e2-19137ff01540",
   "metadata": {},
   "outputs": [
    {
     "name": "stdout",
     "output_type": "stream",
     "text": [
      "(1, 'Lokesh', 27, 'Male', 'Python', 80)\n",
      "(2, 'GURU', 27, 'Male', 'Java', 28)\n",
      "(1, 'Lokesh', 27, 'Male', 'Python', 80)\n",
      "(2, 'GURU', 27, 'Male', 'Java', 28)\n",
      "(1, 'Lokesh', 27, 'Male', 'Python', 80)\n",
      "(2, 'GURU', 27, 'Male', 'Java', 28)\n"
     ]
    }
   ],
   "source": [
    "# Validate your data was inserted into the table\n",
    "\n",
    "try: \n",
    "    cur.execute(\"SELECT * FROM students\")\n",
    "except psycopg2.Error as e:\n",
    "    print(\"Error: select *\")\n",
    "    print(e)\n",
    "\n",
    "row = cur.fetchone()\n",
    "while row:\n",
    "    print(row)\n",
    "    row = cur.fetchone()"
   ]
  },
  {
   "cell_type": "code",
   "execution_count": 13,
   "id": "07e0be82-e2df-4ea6-988e-77fcc2326978",
   "metadata": {},
   "outputs": [],
   "source": [
    "cur.close()\n",
    "conn.close()"
   ]
  },
  {
   "cell_type": "code",
   "execution_count": null,
   "id": "d3ed557a",
   "metadata": {},
   "outputs": [],
   "source": []
  }
 ],
 "metadata": {
  "kernelspec": {
   "display_name": "Python 3 (ipykernel)",
   "language": "python",
   "name": "python3"
  },
  "language_info": {
   "codemirror_mode": {
    "name": "ipython",
    "version": 3
   },
   "file_extension": ".py",
   "mimetype": "text/x-python",
   "name": "python",
   "nbconvert_exporter": "python",
   "pygments_lexer": "ipython3",
   "version": "3.12.7"
  }
 },
 "nbformat": 4,
 "nbformat_minor": 5
}
